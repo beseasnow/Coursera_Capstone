{
 "cells": [
  {
   "cell_type": "markdown",
   "metadata": {},
   "source": [
    "#  1) Introduction/Business Problem"
   ]
  },
  {
   "cell_type": "markdown",
   "metadata": {},
   "source": [
    "Clearly define a problem or an idea of your choice, where you would need to leverage the Foursquare location data to solve or execute. Remember that data science problems always target an audience and are meant to help a group of stakeholders solve a problem, so make sure that you explicitly describe your audience and why they would care about your problem."
   ]
  },
  {
   "cell_type": "markdown",
   "metadata": {},
   "source": [
    "### In challenging times of covid-19 crisis, it is safe to avoid Dine-in in restaurants, and also immportant to support our Houston, TX  local businesses. More and more people choose to find the food and order from restaurants easily with apps and deliver to home . Although there are couple of apps support this service like Uber Eats, Doordash, and GrubHub, it is far short of such platforms to satisfy the market's needs. To develop restaurants delivery platforms and start the business is not easy. Let's start step by step. For this project, we will only cover the first step, which is to cluster restaurants and to find potential customers by income in different zip codes area. "
   ]
  },
  {
   "cell_type": "markdown",
   "metadata": {},
   "source": [
    "# 2) Data"
   ]
  },
  {
   "cell_type": "markdown",
   "metadata": {},
   "source": [
    "Describe the data that you will be using to solve the problem or execute your idea. Remember that you will need to use the Foursquare location data to solve the problem or execute your idea. You can absolutely use other datasets in combination with the Foursquare location data. So make sure that you provide adequate explanation and discussion, with examples, of the data that you will be using, even if it is only Foursquare location data."
   ]
  },
  {
   "cell_type": "markdown",
   "metadata": {},
   "source": [
    "### Then, we will collecte and describe the data that will be using to set up the restaurants delivery platfom. First, Let's choose our potential customers. In the begining stage of the new business, we don't want to cover all residents with shorts of hand. The goal is to provide excellent service with reasonal price. One option is to collect the income data by different zip codes in Houston. And we can forcus on residents with a certain range of income. Median Household income in Houston by zip code can be find from http://www.houstonstateofhealth.com/indicators/index/view?indicatorId=315&localeId=38539 . the .CSV data (Download Zip Code Indicator Data CSV )can also be downloaded. After getting the data, we will clean, group by zip code and calculate the median income in eacg zip code. By sorting certain of range income, we can target our potential costomers. \n"
   ]
  },
  {
   "cell_type": "markdown",
   "metadata": {},
   "source": [
    "### After target potential costomers in those zip codes, we will have better idea of their nearby restaurants that they would be familar with. To collect restaurant data, we will choose from data providers. There are some available location data providers such as Foursquare, Google Places, and Yelp to provide local restaurants features. We can find the rate, cost, tips, etc. in their API. Here, I will use Foursquare API that can provide comprehensive and straight-forward data. This API contains massive dataset of accurate location data and being used widely by developers. To achieve our goal to set up the platform, we will use Foursquare Houston restaurants data. \n",
    "https://foursquare.com/explore?mode=url&near=Houston%2C%20TX%2C%20United%20States&nearGeoId=72057594042627002&q=Food\n",
    "### we can search by area to find food and get venue category, rating, and other features. Then we will cluster the data by these features. "
   ]
  },
  {
   "cell_type": "markdown",
   "metadata": {},
   "source": [
    "### The last but not the least is to integrate resident income data and restautants data to acheive the initial goal of listing restaurants in the restaurants delivery platform and advertise the target potential customers. "
   ]
  },
  {
   "cell_type": "code",
   "execution_count": null,
   "metadata": {},
   "outputs": [],
   "source": []
  }
 ],
 "metadata": {
  "kernelspec": {
   "display_name": "Python 3",
   "language": "python",
   "name": "python3"
  },
  "language_info": {
   "codemirror_mode": {
    "name": "ipython",
    "version": 3
   },
   "file_extension": ".py",
   "mimetype": "text/x-python",
   "name": "python",
   "nbconvert_exporter": "python",
   "pygments_lexer": "ipython3",
   "version": "3.7.6"
  }
 },
 "nbformat": 4,
 "nbformat_minor": 4
}
